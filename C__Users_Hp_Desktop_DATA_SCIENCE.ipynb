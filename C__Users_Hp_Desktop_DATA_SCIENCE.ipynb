{
 "cells": [
  {
   "cell_type": "markdown",
   "id": "7cb3134e",
   "metadata": {},
   "source": [
    "# Data Science Tools and Ecosystem\n",
    "\n"
   ]
  },
  {
   "cell_type": "markdown",
   "id": "295ab71d",
   "metadata": {},
   "source": [
    "## In this notebook, Data Science Tools and Ecosystem are summarized "
   ]
  },
  {
   "cell_type": "markdown",
   "id": "c073d817",
   "metadata": {},
   "source": [
    "**Objectives**\n",
    "\n",
    "* List popular languages \n",
    "* Libraries used by Data Scientists \n",
    "* example of evaluations aritmetic expressions in python"
   ]
  },
  {
   "cell_type": "markdown",
   "id": "b766dbab",
   "metadata": {},
   "source": [
    "## Some of the popular languages that Data Scienctists use are:\n",
    "\n",
    "1. Python \n",
    "2. Julia \n",
    "3. R\n",
    "4. Scala "
   ]
  },
  {
   "cell_type": "markdown",
   "id": "c4c53aa9",
   "metadata": {},
   "source": [
    "## Some of the commonly used libraries used by Data Scientists include:\n",
    "\n",
    "1. NumPy\n",
    "2. Matplolib\n",
    "3. Pandas\n",
    "4. TensorFlow\n",
    "5. PyTorch"
   ]
  },
  {
   "cell_type": "markdown",
   "id": "888869b8",
   "metadata": {},
   "source": [
    "|Data Science tools|\n",
    "----------------------------\n",
    "|Jupyter|\n",
    "|RStudio|\n",
    "|Visual Studio Code|\n"
   ]
  },
  {
   "cell_type": "markdown",
   "id": "8d6ca93b",
   "metadata": {},
   "source": [
    "### Below are a few examples of evaluating aritmetic expressions in python "
   ]
  },
  {
   "cell_type": "code",
   "execution_count": 3,
   "id": "aacfcf32",
   "metadata": {},
   "outputs": [
    {
     "data": {
      "text/plain": [
       "17"
      ]
     },
     "execution_count": 3,
     "metadata": {},
     "output_type": "execute_result"
    }
   ],
   "source": [
    "# this is a simple aritmetic expression to multiply then add integers \n",
    "(3*4)+5"
   ]
  },
  {
   "cell_type": "code",
   "execution_count": null,
   "id": "a5084d42",
   "metadata": {},
   "outputs": [],
   "source": [
    "# this will convert 200 minutes to hours by dividing by 60\n",
    "h=200/60\n",
    "print (h)"
   ]
  },
  {
   "cell_type": "markdown",
   "id": "2abb0a79",
   "metadata": {},
   "source": [
    "## Author \n",
    "Tabi Nicodeme Blondel "
   ]
  },
  {
   "cell_type": "code",
   "execution_count": null,
   "id": "8e9a7100",
   "metadata": {},
   "outputs": [],
   "source": []
  }
 ],
 "metadata": {
  "kernelspec": {
   "display_name": "Python 3 (ipykernel)",
   "language": "python",
   "name": "python3"
  },
  "language_info": {
   "codemirror_mode": {
    "name": "ipython",
    "version": 3
   },
   "file_extension": ".py",
   "mimetype": "text/x-python",
   "name": "python",
   "nbconvert_exporter": "python",
   "pygments_lexer": "ipython3",
   "version": "3.11.5"
  }
 },
 "nbformat": 4,
 "nbformat_minor": 5
}
